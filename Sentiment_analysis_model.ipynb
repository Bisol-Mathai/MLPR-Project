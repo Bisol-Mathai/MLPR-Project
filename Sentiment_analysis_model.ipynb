{
 "cells": [
  {
   "cell_type": "code",
   "execution_count": 2,
   "id": "705d35e1",
   "metadata": {},
   "outputs": [
    {
     "name": "stderr",
     "output_type": "stream",
     "text": [
      "[nltk_data] Downloading package vader_lexicon to C:\\Users\\Bisol\n",
      "[nltk_data]     Mathai\\AppData\\Roaming\\nltk_data...\n",
      "[nltk_data]   Package vader_lexicon is already up-to-date!\n"
     ]
    },
    {
     "data": {
      "text/plain": [
       "True"
      ]
     },
     "execution_count": 2,
     "metadata": {},
     "output_type": "execute_result"
    }
   ],
   "source": [
    "import nltk\n",
    "nltk.download('vader_lexicon')\n"
   ]
  },
  {
   "cell_type": "code",
   "execution_count": 3,
   "id": "40178c79",
   "metadata": {},
   "outputs": [],
   "source": [
    "from nltk.sentiment.vader import SentimentIntensityAnalyzer\n",
    "import pandas as pd"
   ]
  },
  {
   "cell_type": "code",
   "execution_count": 4,
   "id": "d5a1d083",
   "metadata": {},
   "outputs": [
    {
     "name": "stdout",
     "output_type": "stream",
     "text": [
      "Index(['user_name', 'user_location', 'user_description', 'user_created',\n",
      "       'user_followers', 'user_friends', 'user_favourites', 'user_verified',\n",
      "       'date', 'text', 'hashtags', 'source', 'is_retweet',\n",
      "       'friends_follower_ratio', 'Bot Label', 'cleaned_text', 'hashtag_count',\n",
      "       'mention_count', 'url_count'],\n",
      "      dtype='object')\n"
     ]
    }
   ],
   "source": [
    "# Load the dataset\n",
    "df = pd.read_csv('processed_dataset_20000.csv')\n",
    "print(df.columns)"
   ]
  },
  {
   "cell_type": "code",
   "execution_count": 5,
   "id": "b47b1500",
   "metadata": {},
   "outputs": [],
   "source": [
    "# Initialize the sentiment analyzer\n",
    "analyzer = SentimentIntensityAnalyzer()\n",
    "def get_sentiment_score(text):\n",
    "    if isinstance(text, str):\n",
    "        return analyzer.polarity_scores(text)['compound']\n",
    "    else:\n",
    "        return 0.0  # Neutral score for non-string entries\n",
    "\n",
    "# Function to assign sentiment labels based on compound score\n",
    "def get_sentiment_label(score):\n",
    "    if score >= 0.05:\n",
    "        return 'Positive'\n",
    "    elif score <= -0.05:\n",
    "        return 'Negative'\n",
    "    else:\n",
    "        return 'Neutral'\n",
    "\n",
    "# Apply sentiment analysis to the 'cleaned_text' column\n",
    "df['sentiment_score'] = df['cleaned_text'].apply(get_sentiment_score)\n",
    "\n",
    "# Apply sentiment labeling\n",
    "df['sentiment'] = df['sentiment_score'].apply(get_sentiment_label)\n",
    "\n",
    "# Save the updated DataFrame to a new CSV file\n",
    "# df.to_csv('labeled_sentiment_1.csv', index=False)"
   ]
  },
  {
   "cell_type": "code",
   "execution_count": 7,
   "id": "540fc1c1",
   "metadata": {},
   "outputs": [
    {
     "name": "stdout",
     "output_type": "stream",
     "text": [
      "      ___  _______  _______________________________________  _____are  ____i  \\\n",
      "0       0        0                                        0         0      0   \n",
      "1       0        0                                        0         0      0   \n",
      "2       0        0                                        0         0      0   \n",
      "3       0        0                                        0         0      0   \n",
      "4       0        0                                        0         0      0   \n",
      "...   ...      ...                                      ...       ...    ...   \n",
      "9910    0        0                                        0         0      0   \n",
      "9911    0        0                                        0         0      0   \n",
      "9912    0        0                                        0         0      0   \n",
      "9913    0        0                                        0         0      0   \n",
      "9914    0        0                                        0         0      0   \n",
      "\n",
      "      _ツ_  aaveusd  aback  abandon  abbe  ...  𝐖𝐞𝐛  𝐖𝐨𝐫𝐫𝐢𝐞𝐝  𝐚𝐛𝐨𝐮𝐭  𝐚𝐥𝐥  𝐚𝐧𝐝  \\\n",
      "0       0        0      0        0     0  ...    0        0      0    0    0   \n",
      "1       0        0      0        0     0  ...    0        0      0    0    0   \n",
      "2       0        0      0        0     0  ...    0        0      0    0    0   \n",
      "3       0        0      0        0     0  ...    0        0      0    0    0   \n",
      "4       0        0      0        0     0  ...    0        0      0    0    0   \n",
      "...   ...      ...    ...      ...   ...  ...  ...      ...    ...  ...  ...   \n",
      "9910    0        0      0        0     0  ...    0        0      0    0    0   \n",
      "9911    0        0      0        0     0  ...    0        0      0    0    0   \n",
      "9912    0        0      0        0     0  ...    0        0      0    0    0   \n",
      "9913    0        0      0        0     0  ...    0        0      0    0    0   \n",
      "9914    0        0      0        0     0  ...    0        0      0    0    0   \n",
      "\n",
      "      𝐰𝐢𝐭𝐡  𝗔𝗻𝗮𝗹𝘆𝘀𝗶𝘀  𝗕𝗥𝗘𝗔𝗞𝗜𝗡𝗚  𝗠𝗮𝗿  𝗠𝗮𝗿𝗸𝗲𝘁  \n",
      "0        0         0         0    0       0  \n",
      "1        0         0         0    0       0  \n",
      "2        0         0         0    0       0  \n",
      "3        0         0         0    0       0  \n",
      "4        0         0         0    0       0  \n",
      "...    ...       ...       ...  ...     ...  \n",
      "9910     0         0         0    0       0  \n",
      "9911     0         0         0    0       0  \n",
      "9912     0         0         0    0       0  \n",
      "9913     0         0         0    0       0  \n",
      "9914     0         0         0    0       0  \n",
      "\n",
      "[9915 rows x 5779 columns]\n"
     ]
    }
   ],
   "source": [
    "import pandas as pd\n",
    "from sklearn.feature_extraction.text import CountVectorizer\n",
    "\n",
    "# Load dataset\n",
    "df = pd.read_csv('labeled_sentiment.csv')\n",
    "\n",
    "# Fix: Remove or fill NaNs\n",
    "# df['cleaned_text'] = df['cleaned_text'].fillna('')  # or use dropna(subset=['cleaned_text'])\n",
    "df = df.dropna(subset=['cleaned_text'])\n",
    "\n",
    "# Initialize vectorizer\n",
    "vectorizer = CountVectorizer()\n",
    "\n",
    "# Fit and transform\n",
    "X_bow = vectorizer.fit_transform(df['cleaned_text'])\n",
    "\n",
    "# Convert to DataFrame\n",
    "bow_df = pd.DataFrame(X_bow.toarray(), columns=vectorizer.get_feature_names_out())\n",
    "\n",
    "# Show result\n",
    "print(bow_df)\n"
   ]
  },
  {
   "cell_type": "code",
   "execution_count": 8,
   "id": "8229aaac",
   "metadata": {},
   "outputs": [
    {
     "name": "stdout",
     "output_type": "stream",
     "text": [
      "              precision    recall  f1-score   support\n",
      "\n",
      "    Negative       0.82      0.76      0.79       270\n",
      "     Neutral       0.93      0.97      0.95       960\n",
      "    Positive       0.94      0.91      0.92       753\n",
      "\n",
      "    accuracy                           0.92      1983\n",
      "   macro avg       0.90      0.88      0.89      1983\n",
      "weighted avg       0.92      0.92      0.92      1983\n",
      "\n"
     ]
    }
   ],
   "source": [
    "from sklearn.model_selection import train_test_split\n",
    "from sklearn.svm import SVC\n",
    "from sklearn.metrics import classification_report\n",
    "\n",
    "# Define features and target variable\n",
    "X = X_bow\n",
    "y = df['sentiment']  # Ensure this column contains the sentiment labels\n",
    "\n",
    "# Split the dataset into training and testing sets\n",
    "X_train, X_test, y_train, y_test = train_test_split(X, y, test_size=0.2, random_state=42)\n",
    "\n",
    "# Initialize and train the SVM classifier\n",
    "svm_clf = SVC(kernel='linear')\n",
    "svm_clf.fit(X_train, y_train)\n",
    "\n",
    "# Predict on the test set\n",
    "y_pred = svm_clf.predict(X_test)\n",
    "\n",
    "# Evaluate the classifier\n",
    "print(classification_report(y_test, y_pred))\n"
   ]
  }
 ],
 "metadata": {
  "kernelspec": {
   "display_name": "Python 3",
   "language": "python",
   "name": "python3"
  },
  "language_info": {
   "codemirror_mode": {
    "name": "ipython",
    "version": 3
   },
   "file_extension": ".py",
   "mimetype": "text/x-python",
   "name": "python",
   "nbconvert_exporter": "python",
   "pygments_lexer": "ipython3",
   "version": "3.12.5"
  }
 },
 "nbformat": 4,
 "nbformat_minor": 5
}
