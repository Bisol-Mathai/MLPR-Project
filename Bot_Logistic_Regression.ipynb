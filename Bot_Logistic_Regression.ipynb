{
 "cells": [
  {
   "cell_type": "code",
   "execution_count": 3,
   "id": "cdcf1905",
   "metadata": {},
   "outputs": [],
   "source": [
    "import pandas as pd\n",
    "import numpy as np\n",
    "from sklearn.model_selection import train_test_split, GridSearchCV\n",
    "from sklearn.feature_extraction.text import TfidfVectorizer\n",
    "from sklearn.preprocessing import StandardScaler\n",
    "from sklearn.linear_model import LogisticRegression\n",
    "from sklearn.metrics import accuracy_score, classification_report, confusion_matrix\n",
    "from scipy.sparse import hstack\n",
    "import seaborn as sns\n",
    "import matplotlib.pyplot as plt"
   ]
  },
  {
   "cell_type": "code",
   "execution_count": 4,
   "id": "8f53b7c1",
   "metadata": {},
   "outputs": [],
   "source": [
    "df = pd.read_csv(\"cleaned_dataset_10000.csv\")"
   ]
  },
  {
   "cell_type": "code",
   "execution_count": 5,
   "id": "d3281f82",
   "metadata": {},
   "outputs": [],
   "source": [
    "df = df.dropna(subset=['Bot_label'])\n",
    "\n",
    "# Fill missing metadata features with 0\n",
    "metadata_features = ['user_followers', 'user_friends', 'user_favourites', 'hashtag_count']\n",
    "df[metadata_features] = df[metadata_features].fillna(0)"
   ]
  },
  {
   "cell_type": "code",
   "execution_count": 6,
   "id": "4262962a",
   "metadata": {},
   "outputs": [
    {
     "name": "stdout",
     "output_type": "stream",
     "text": [
      "Train samples: 7805, Test samples: 2255\n",
      "Common users in train and test sets: set()\n"
     ]
    }
   ],
   "source": [
    "unique_users = df['user_name'].unique()\n",
    "train_users, test_users = train_test_split(unique_users, test_size=0.2, random_state=42)\n",
    "\n",
    "train_df = df[df['user_name'].isin(train_users)].reset_index(drop=True)\n",
    "test_df = df[df['user_name'].isin(test_users)].reset_index(drop=True)\n",
    "\n",
    "print(f\"Train samples: {len(train_df)}, Test samples: {len(test_df)}\")\n",
    "print(f\"Common users in train and test sets: {set(train_users).intersection(set(test_users))}\") "
   ]
  },
  {
   "cell_type": "code",
   "execution_count": 7,
   "id": "00073100",
   "metadata": {},
   "outputs": [],
   "source": [
    "vectorizer = TfidfVectorizer(\n",
    "    max_features=5000,\n",
    "    ngram_range=(1, 2),  # unigrams + bigrams\n",
    "    min_df=3,\n",
    "    max_df=0.9\n",
    ")\n",
    "X_train_text = train_df['cleaned_text'].astype(str)\n",
    "X_test_text = test_df['cleaned_text'].astype(str)\n",
    "\n",
    "X_train_tfidf = vectorizer.fit_transform(X_train_text)\n",
    "X_test_tfidf = vectorizer.transform(X_test_text)\n"
   ]
  },
  {
   "cell_type": "code",
   "execution_count": 8,
   "id": "9a93e93c",
   "metadata": {},
   "outputs": [],
   "source": [
    "scaler = StandardScaler()\n",
    "X_train_meta = scaler.fit_transform(train_df[metadata_features])\n",
    "X_test_meta = scaler.transform(test_df[metadata_features])\n",
    "\n",
    "# Combine sparse TF-IDF and dense metadata features\n",
    "X_train_combined = hstack([X_train_tfidf, X_train_meta])\n",
    "X_test_combined = hstack([X_test_tfidf, X_test_meta])\n",
    "\n",
    "# Labels\n",
    "y_train = train_df['Bot_label'].astype(int)\n",
    "y_test = test_df['Bot_label'].astype(int)\n"
   ]
  },
  {
   "cell_type": "code",
   "execution_count": 9,
   "id": "e870930b",
   "metadata": {},
   "outputs": [],
   "source": [
    "log_reg = LogisticRegression(max_iter=1000)\n",
    "param_grid = {\n",
    "    'C': [1, 2, 3],\n",
    "    'penalty': ['l1', 'l2'],\n",
    "    'solver': ['liblinear']  # supports both l1 and l2\n",
    "}\n",
    "\n",
    "grid = GridSearchCV(log_reg, param_grid, cv=5, scoring='accuracy', n_jobs=-1)\n",
    "grid.fit(X_train_combined, y_train)\n",
    "\n",
    "best_model = grid.best_estimator_\n"
   ]
  },
  {
   "cell_type": "code",
   "execution_count": 10,
   "id": "79079aba",
   "metadata": {},
   "outputs": [
    {
     "name": "stdout",
     "output_type": "stream",
     "text": [
      "Best Parameters: {'C': 2, 'penalty': 'l1', 'solver': 'liblinear'}\n",
      "Training Accuracy: 0.9883\n",
      "Test Accuracy: 0.9743\n",
      "\n",
      "Classification Report (Test Set):\n",
      "\n",
      "              precision    recall  f1-score   support\n",
      "\n",
      "           0       0.98      0.95      0.97       963\n",
      "           1       0.97      0.99      0.98      1292\n",
      "\n",
      "    accuracy                           0.97      2255\n",
      "   macro avg       0.98      0.97      0.97      2255\n",
      "weighted avg       0.97      0.97      0.97      2255\n",
      "\n"
     ]
    }
   ],
   "source": [
    "y_train_pred = best_model.predict(X_train_combined)\n",
    "y_test_pred = best_model.predict(X_test_combined)\n",
    "\n",
    "train_acc = accuracy_score(y_train, y_train_pred)\n",
    "test_acc = accuracy_score(y_test, y_test_pred)\n",
    "\n",
    "print(\"Best Parameters:\", grid.best_params_)\n",
    "print(f\"Training Accuracy: {train_acc:.4f}\")\n",
    "print(f\"Test Accuracy: {test_acc:.4f}\\n\")\n",
    "\n",
    "print(\"Classification Report (Test Set):\\n\")\n",
    "print(classification_report(y_test, y_test_pred))"
   ]
  },
  {
   "cell_type": "code",
   "execution_count": 11,
   "id": "b9ef6002",
   "metadata": {},
   "outputs": [
    {
     "data": {
      "image/png": "[encoded data removed]",
      "text/plain": [
       "<Figure size 600x400 with 2 Axes>"
      ]
     },
     "metadata": {},
     "output_type": "display_data"
    }
   ],
   "source": [
    "cm = confusion_matrix(y_test, y_test_pred)\n",
    "plt.figure(figsize=(6,4))\n",
    "sns.heatmap(cm, annot=True, fmt='d', cmap='Blues',\n",
    "            xticklabels=['Human', 'Bot'], yticklabels=['Human', 'Bot'])\n",
    "plt.xlabel('Predicted')\n",
    "plt.ylabel('Actual')\n",
    "plt.title('Confusion Matrix - Logistic Regression (Test Set)')\n",
    "plt.show()"
   ]
  },
  {
   "cell_type": "code",
   "execution_count": null,
   "id": "777d3e16",
   "metadata": {},
   "outputs": [],
   "source": []
  }
 ],
 "metadata": {
  "kernelspec": {
   "display_name": "Python 3",
   "language": "python",
   "name": "python3"
  },
  "language_info": {
   "codemirror_mode": {
    "name": "ipython",
    "version": 3
   },
   "file_extension": ".py",
   "mimetype": "text/x-python",
   "name": "python",
   "nbconvert_exporter": "python",
   "pygments_lexer": "ipython3",
   "version": "3.12.7"
  }
 },
 "nbformat": 4,
 "nbformat_minor": 5
}
